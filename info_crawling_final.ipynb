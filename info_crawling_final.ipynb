{
 "cells": [
  {
   "cell_type": "code",
   "execution_count": 1,
   "id": "1222a417",
   "metadata": {},
   "outputs": [],
   "source": [
    "import pandas as pd\n",
    "import os\n",
    "import pathlib\n",
    "import time"
   ]
  },
  {
   "cell_type": "markdown",
   "id": "faa4df77",
   "metadata": {},
   "source": [
    "## all tickers"
   ]
  },
  {
   "cell_type": "code",
   "execution_count": 2,
   "id": "486be58d",
   "metadata": {},
   "outputs": [
    {
     "data": {
      "text/plain": [
       "2743"
      ]
     },
     "execution_count": 2,
     "metadata": {},
     "output_type": "execute_result"
    }
   ],
   "source": [
    "df1 = pd.read_csv('./open/NASDAQ_DT_FC_STK_QUT.csv')\n",
    "ticker1 = df1['tck_iem_cd'].unique().tolist()\n",
    "len(ticker1)"
   ]
  },
  {
   "cell_type": "code",
   "execution_count": 3,
   "id": "79bd766d",
   "metadata": {
    "scrolled": true
   },
   "outputs": [
    {
     "data": {
      "text/plain": [
       "2743"
      ]
     },
     "execution_count": 3,
     "metadata": {},
     "output_type": "execute_result"
    }
   ],
   "source": [
    "df2 = pd.read_csv('./open/NASDAQ_FC_STK_IEM_IFO.csv',encoding='cp949')\n",
    "ticker2 = df2['tck_iem_cd'].unique().tolist()\n",
    "len(ticker2)"
   ]
  },
  {
   "cell_type": "code",
   "execution_count": 4,
   "id": "9bef4759",
   "metadata": {},
   "outputs": [],
   "source": [
    "import pathlib\n",
    "\n",
    "rss_ifo = list(pathlib.Path('./open/NASDAQ_RSS_IFO/').glob('*.csv'))\n",
    "\n",
    "ticker3 = []\n",
    "for rss in rss_ifo:\n",
    "    temp = pd.read_csv(rss,encoding='cp949')\n",
    "    ticker = temp['tck_iem_cd'].unique().tolist()\n",
    "    ticker3.extend(ticker)\n",
    "    \n",
    "ticker3 = list(set(ticker3))"
   ]
  },
  {
   "cell_type": "code",
   "execution_count": 5,
   "id": "c89af9c5",
   "metadata": {},
   "outputs": [
    {
     "data": {
      "text/plain": [
       "8934"
      ]
     },
     "execution_count": 5,
     "metadata": {},
     "output_type": "execute_result"
    }
   ],
   "source": [
    "tickers = ticker1 + ticker2 + ticker3\n",
    "\n",
    "tickers = list(set(tickers))\n",
    "len(tickers)"
   ]
  },
  {
   "cell_type": "code",
   "execution_count": 6,
   "id": "9272e17d",
   "metadata": {},
   "outputs": [
    {
     "data": {
      "text/plain": [
       "6191"
      ]
     },
     "execution_count": 6,
     "metadata": {},
     "output_type": "execute_result"
    }
   ],
   "source": [
    "tickers = [tic.strip() for tic in tickers]\n",
    "tickers = list(set(tickers))\n",
    "len(tickers)"
   ]
  },
  {
   "cell_type": "markdown",
   "id": "fc9a2981",
   "metadata": {},
   "source": [
    "## 0801 tickers"
   ]
  },
  {
   "cell_type": "code",
   "execution_count": 34,
   "id": "5dbcfe51",
   "metadata": {},
   "outputs": [],
   "source": [
    "temp = pd.read_csv('./20230801.csv')\n",
    "\n",
    "tickers = []\n",
    "tickers.extend(temp['tck_iem_cd'].values.flatten().tolist())\n",
    "\n",
    "rld_tickers = temp['rld_ose_iem_tck_cd'].apply(lambda x:x.split(',') if x!='_' else [])\n",
    "\n",
    "for i in rld_tickers.values:\n",
    "    tickers.extend(i)\n",
    "    \n",
    "tickers = [tic.strip().lower() for tic in tickers]\n",
    "\n",
    "tickers = list(set(tickers))"
   ]
  },
  {
   "cell_type": "markdown",
   "id": "a06664f8",
   "metadata": {},
   "source": [
    "## Crawling"
   ]
  },
  {
   "cell_type": "code",
   "execution_count": 36,
   "id": "b20b9d84",
   "metadata": {},
   "outputs": [],
   "source": [
    "agent = 'Mozilla/5.0 (Macintosh; Intel Mac OS X 10_15_7) AppleWebKit/537.36 (KHTML, like Gecko) Chrome/118.0.0.0 Safari/537.36'\n",
    "headers = {'user-agent':agent}"
   ]
  },
  {
   "cell_type": "code",
   "execution_count": 37,
   "id": "852b77ee",
   "metadata": {},
   "outputs": [],
   "source": [
    "company_info = {}\n",
    "company_industry = {}\n",
    "\n",
    "parse_err = []\n",
    "info_err = []\n",
    "indust_err = []\n",
    "unavailable_ticker = []"
   ]
  },
  {
   "cell_type": "code",
   "execution_count": 38,
   "id": "ce5109b7",
   "metadata": {
    "scrolled": true
   },
   "outputs": [
    {
     "name": "stderr",
     "output_type": "stream",
     "text": [
      "100%|███████████████████████████████████████| 1428/1428 [54:33<00:00,  2.29s/it]"
     ]
    },
    {
     "name": "stdout",
     "output_type": "stream",
     "text": [
      "파씽 실패 : 0\n",
      "존재하지 않는 티커코드 : 137\n",
      "기업 설명 실패 : 0\n",
      "사업분야 실패 : 0\n",
      "기업 설명 : 1291\n",
      "기업 사업분야 : 1291\n"
     ]
    },
    {
     "name": "stderr",
     "output_type": "stream",
     "text": [
      "\n"
     ]
    }
   ],
   "source": [
    "import requests\n",
    "from bs4 import BeautifulSoup\n",
    "from tqdm import tqdm\n",
    "\n",
    "for ticker in tqdm(tickers):\n",
    "#for ticker in tqdm(info_err):\n",
    "    url = f'https://stockanalysis.com/stocks/{ticker}/company/'\n",
    "    \n",
    "    try:\n",
    "        response = requests.get(url,headers=headers)\n",
    "        soup = BeautifulSoup(response.content, 'html.parser')\n",
    "    except:\n",
    "        parse_err.append(ticker)\n",
    "        continue\n",
    "    try:\n",
    "        check = soup.select(\"main > div > div.mb-4.text-2xl.font-bold.sm\\:text-3xl\")[0].text\n",
    "        if '404' in check:\n",
    "            unavailable_ticker.append(ticker)\n",
    "            continue\n",
    "    except:\n",
    "        pass\n",
    "    \n",
    "    try:\n",
    "        desc = soup.select(\"main > div:nth-child(3) > div:nth-child(1)\")\n",
    "        if len(desc)==0:\n",
    "            desc = soup.select(\"main > div.mt-4.sm\\:mt-5 > div:nth-child(1)\")\n",
    "        company_info[ticker] = desc[0].text\n",
    "    except:\n",
    "        info_err.append(ticker)\n",
    "        \n",
    "    try:\n",
    "        num = 0\n",
    "        selector = 1\n",
    "        for i in range(1,7):\n",
    "            industry = soup.select(f'main > div:nth-child(3) > div.lg\\:float-right.lg\\:w-\\[336px\\] > div.mt-7.rounded.border.border-gray-200.bg-gray-50.px-3.pt-3.pb-2.dark\\:border-dark-700.dark\\:bg-dark-775.xs\\:px-4.xs\\:pt-4.lg\\:mt-1 > table > tbody > tr:nth-child({i}) > td.py-1\\.5.px-1.font-semibold.lg\\:py-2')\n",
    "            if len(industry)==0:\n",
    "                selector = 2\n",
    "                industry = soup.select(f'main > div.mt-4.sm\\:mt-5 > div.lg\\:float-right.lg\\:w-\\[336px\\] > div.mt-7.rounded.border.border-gray-200.bg-gray-50.px-3.pt-3.pb-2.dark\\:border-dark-700.dark\\:bg-dark-775.xs\\:px-4.xs\\:pt-4.lg\\:mt-1 > table > tbody > tr:nth-child({i}) > td.py-1\\.5.px-1.font-semibold.lg\\:py-2')\n",
    "            if industry[0].text=='Industry':\n",
    "                num = i\n",
    "                break\n",
    "        if num==0:\n",
    "            indust_err.append(ticker)\n",
    "        else:\n",
    "            if selector == 1:\n",
    "                text = soup.select(f\"main > div:nth-child(3) > div.lg\\:float-right.lg\\:w-\\[336px\\] > div.mt-7.rounded.border.border-gray-200.bg-gray-50.px-3.pt-3.pb-2.dark\\:border-dark-700.dark\\:bg-dark-775.xs\\:px-4.xs\\:pt-4.lg\\:mt-1 > table > tbody > tr:nth-child({num}) > td.py-1\\.5.px-1.text-right.lg\\:py-2 > a\")\n",
    "            else:\n",
    "                text = soup.select(f\"main > div.mt-4.sm\\:mt-5 > div.lg\\:float-right.lg\\:w-\\[336px\\] > div.mt-7.rounded.border.border-gray-200.bg-gray-50.px-3.pt-3.pb-2.dark\\:border-dark-700.dark\\:bg-dark-775.xs\\:px-4.xs\\:pt-4.lg\\:mt-1 > table > tbody > tr:nth-child({num}) > td.py-1\\.5.px-1.text-right.lg\\:py-2 > a\")\n",
    "                \n",
    "            company_industry[ticker] = text[0].text\n",
    "    except:\n",
    "        indust_err.append(ticker)\n",
    "        \n",
    "    time.sleep(2)\n",
    "    if len(info_err)>1:\n",
    "        print('error')\n",
    "        break\n",
    "        \n",
    "info_err = list(set(info_err)-set(list(company_info.keys()))-set(unavailable_ticker))\n",
    "indust_err = list(set(indust_err)-set(list(company_industry.keys()))-set(unavailable_ticker))\n",
    "unavailable_ticker = list(set(unavailable_ticker)-set(list(company_info.keys()))-set(list(company_industry.keys())))\n",
    "parse_err = list(set(parse_err)-set(unavailable_ticker)-set(list(company_info.keys()))-set(list(company_industry.keys())))\n",
    "\n",
    "print('파씽 실패 :',len(parse_err))\n",
    "print('존재하지 않는 티커코드 :',len(unavailable_ticker))\n",
    "print('기업 설명 실패 :',len(info_err))\n",
    "print('사업분야 실패 :',len(indust_err))\n",
    "\n",
    "print('기업 설명 :',len(company_info))\n",
    "print('기업 사업분야 :',len(company_industry))"
   ]
  },
  {
   "cell_type": "code",
   "execution_count": 43,
   "id": "70001680",
   "metadata": {},
   "outputs": [],
   "source": [
    "desc = 'main > div.mt-6.lg\\:grid.lg\\:grid-cols-sidebar_wide.lg\\:gap-x-10 > div.space-y-6.lg\\:order-2.lg\\:pt-1 > div.px-0\\.5.lg\\:px-0 > p'\n",
    "holdings = 'main > div.mt-6.lg\\:grid.lg\\:grid-cols-sidebar_wide.lg\\:gap-x-10 > div.space-y-6.lg\\:order-2.lg\\:pt-1 > div:nth-child(4) > table'"
   ]
  },
  {
   "cell_type": "code",
   "execution_count": 147,
   "id": "d895c495",
   "metadata": {
    "scrolled": true
   },
   "outputs": [
    {
     "name": "stderr",
     "output_type": "stream",
     "text": [
      "\r",
      "  0%|                                                     | 0/1 [00:00<?, ?it/s]"
     ]
    },
    {
     "name": "stdout",
     "output_type": "stream",
     "text": [
      "ppa 1 4\n"
     ]
    },
    {
     "name": "stderr",
     "output_type": "stream",
     "text": [
      "100%|█████████████████████████████████████████████| 1/1 [00:02<00:00,  2.92s/it]\n"
     ]
    }
   ],
   "source": [
    "#etf_info = {}\n",
    "#etf_holdings = {}\n",
    "\n",
    "for ticker in tqdm(unavailable_ticker[136:]):\n",
    "    url = f'https://stockanalysis.com/etf/{ticker}'\n",
    "\n",
    "    response = requests.get(url,headers=headers)\n",
    "    soup = BeautifulSoup(response.content, 'html.parser')\n",
    "    \n",
    "    try:\n",
    "        check = soup.select(\"main > div > div.mb-4.text-2xl.font-bold.sm\\:text-3xl\")[0].text\n",
    "        if '404' in check:\n",
    "            #unavailable_ticker.append(ticker)\n",
    "            print(ticker,'pass')\n",
    "            continue\n",
    "    except:\n",
    "        pass\n",
    "    \n",
    "    about = soup.select(desc)\n",
    "    table = soup.find_all('table')\n",
    "    print(ticker,len(about),len(table))\n",
    "    dfs = pd.read_html(str(table))\n",
    "    \n",
    "    holding_list = None\n",
    "    for df in dfs:\n",
    "        if 'Symbol'in df.columns:\n",
    "            holding_list = df\n",
    "            break\n",
    "    \n",
    "    etf_info[ticker] = about[0].text\n",
    "    etf_holdings[ticker] = holding_list\n",
    "    \n",
    "    time.sleep(2)"
   ]
  },
  {
   "cell_type": "code",
   "execution_count": 149,
   "id": "c17ef0bc",
   "metadata": {},
   "outputs": [
    {
     "data": {
      "text/plain": [
       "35"
      ]
     },
     "execution_count": 149,
     "metadata": {},
     "output_type": "execute_result"
    }
   ],
   "source": [
    "unavailable_ticker = list(set(unavailable_ticker)-set(list(etf_info.keys()))-set(list(etf_holdings.keys())))\n",
    "len(unavailable_ticker)"
   ]
  },
  {
   "cell_type": "code",
   "execution_count": 150,
   "id": "2a3d2fb9",
   "metadata": {},
   "outputs": [
    {
     "data": {
      "text/plain": [
       "(102, 102)"
      ]
     },
     "execution_count": 150,
     "metadata": {},
     "output_type": "execute_result"
    }
   ],
   "source": [
    "len(etf_info),len(etf_holdings)"
   ]
  },
  {
   "cell_type": "code",
   "execution_count": 41,
   "id": "47463513",
   "metadata": {},
   "outputs": [],
   "source": [
    "import pickle\n",
    "\n",
    "with open('./company_describe.pkl','wb') as f:\n",
    "    pickle.dump(company_info,f)\n",
    "\n",
    "with open('./company_industry.pkl','wb') as f:\n",
    "    pickle.dump(company_industry,f)"
   ]
  },
  {
   "cell_type": "code",
   "execution_count": 156,
   "id": "8873d989",
   "metadata": {},
   "outputs": [],
   "source": [
    "with open('./etf_describe.pkl','wb') as f:\n",
    "    pickle.dump(etf_info,f)\n",
    "\n",
    "with open('./etf_holdings.pkl','wb') as f:\n",
    "    pickle.dump(etf_holdings,f)"
   ]
  }
 ],
 "metadata": {
  "kernelspec": {
   "display_name": "PyTorch",
   "language": "python",
   "name": "pytorch"
  },
  "language_info": {
   "codemirror_mode": {
    "name": "ipython",
    "version": 3
   },
   "file_extension": ".py",
   "mimetype": "text/x-python",
   "name": "python",
   "nbconvert_exporter": "python",
   "pygments_lexer": "ipython3",
   "version": "3.8.15"
  }
 },
 "nbformat": 4,
 "nbformat_minor": 5
}
