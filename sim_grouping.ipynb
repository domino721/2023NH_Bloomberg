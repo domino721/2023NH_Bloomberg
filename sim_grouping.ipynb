{
 "cells": [
  {
   "cell_type": "code",
   "execution_count": 1,
   "id": "0fd3656a",
   "metadata": {},
   "outputs": [],
   "source": [
    "import pandas as pd\n",
    "import numpy as np\n",
    "from tqdm import tqdm\n",
    "import time"
   ]
  },
  {
   "cell_type": "markdown",
   "id": "483702fb",
   "metadata": {},
   "source": [
    "## Data Load"
   ]
  },
  {
   "cell_type": "code",
   "execution_count": 2,
   "id": "b5d746d0",
   "metadata": {},
   "outputs": [
    {
     "data": {
      "text/html": [
       "<div>\n",
       "<style scoped>\n",
       "    .dataframe tbody tr th:only-of-type {\n",
       "        vertical-align: middle;\n",
       "    }\n",
       "\n",
       "    .dataframe tbody tr th {\n",
       "        vertical-align: top;\n",
       "    }\n",
       "\n",
       "    .dataframe thead th {\n",
       "        text-align: right;\n",
       "    }\n",
       "</style>\n",
       "<table border=\"1\" class=\"dataframe\">\n",
       "  <thead>\n",
       "    <tr style=\"text-align: right;\">\n",
       "      <th></th>\n",
       "      <th>rgs_dt</th>\n",
       "      <th>tck_iem_cd</th>\n",
       "      <th>til_ifo</th>\n",
       "      <th>ctgy_cfc_ifo</th>\n",
       "      <th>mdi_ifo</th>\n",
       "      <th>news_smy_ifo</th>\n",
       "      <th>rld_ose_iem_tck_cd</th>\n",
       "      <th>url_ifo</th>\n",
       "      <th>article</th>\n",
       "      <th>summary</th>\n",
       "    </tr>\n",
       "  </thead>\n",
       "  <tbody>\n",
       "    <tr>\n",
       "      <th>0</th>\n",
       "      <td>20230801</td>\n",
       "      <td>Latest</td>\n",
       "      <td>Steady Start Seen For Indonesia Stock Market</td>\n",
       "      <td>Markets</td>\n",
       "      <td>RTTNews</td>\n",
       "      <td>(RTTNews) - The Indonesia stock market has mov...</td>\n",
       "      <td>_</td>\n",
       "      <td>https://www.nasdaq.com/articles/steady-start-s...</td>\n",
       "      <td>July 31, 2023 — 09:34 pm EDT      Written by  ...</td>\n",
       "      <td>The Indonesia stock market has risen by more t...</td>\n",
       "    </tr>\n",
       "    <tr>\n",
       "      <th>1</th>\n",
       "      <td>20230801</td>\n",
       "      <td>ARES</td>\n",
       "      <td>Ares Management (ARES) Q2 Earnings: Taking a L...</td>\n",
       "      <td>Technology</td>\n",
       "      <td>Zacks</td>\n",
       "      <td>For the quarter ended June 2023, Ares Manageme...</td>\n",
       "      <td>ARES</td>\n",
       "      <td>https://www.nasdaq.com/articles/ares-managemen...</td>\n",
       "      <td>August 01, 2023 — 09:30 am EDT      Written by...</td>\n",
       "      <td>Ares Management reported revenue of $792.1 mil...</td>\n",
       "    </tr>\n",
       "    <tr>\n",
       "      <th>2</th>\n",
       "      <td>20230801</td>\n",
       "      <td>EW</td>\n",
       "      <td>RBC Capital Reiterates Edwards Lifesciences (E...</td>\n",
       "      <td>Stocks</td>\n",
       "      <td>Fintel</td>\n",
       "      <td>Fintel reports that on August 1, 2023, RBC Cap...</td>\n",
       "      <td>EW</td>\n",
       "      <td>https://www.nasdaq.com/articles/rbc-capital-re...</td>\n",
       "      <td>August 01, 2023 — 07:30 pm EDT      Written by...</td>\n",
       "      <td>RBC Capital reiterated its Outperform recommen...</td>\n",
       "    </tr>\n",
       "    <tr>\n",
       "      <th>3</th>\n",
       "      <td>20230801</td>\n",
       "      <td>LMAT</td>\n",
       "      <td>Noteworthy Tuesday Option Activity: LMAT, MSTR...</td>\n",
       "      <td>Markets,Stocks,Options</td>\n",
       "      <td>BNK Invest</td>\n",
       "      <td>Looking at options trading activity among comp...</td>\n",
       "      <td>LMAT,LMAT,MSTR,TPC</td>\n",
       "      <td>https://www.nasdaq.com/articles/noteworthy-tue...</td>\n",
       "      <td>August 01, 2023 — 03:19 pm EDT      Written by...</td>\n",
       "      <td>BNK Invest analyzed options trading activity a...</td>\n",
       "    </tr>\n",
       "    <tr>\n",
       "      <th>4</th>\n",
       "      <td>20230801</td>\n",
       "      <td>EW</td>\n",
       "      <td>Notable Two Hundred Day Moving Average Cross - EW</td>\n",
       "      <td>Markets,Stocks</td>\n",
       "      <td>BNK Invest</td>\n",
       "      <td>In trading on Tuesday, shares of Edwards Lifes...</td>\n",
       "      <td>EW</td>\n",
       "      <td>https://www.nasdaq.com/articles/notable-two-hu...</td>\n",
       "      <td>August 01, 2023 — 11:07 am EDT      Written by...</td>\n",
       "      <td>On August 1, 2023, at 11:07 am EDT, shares of ...</td>\n",
       "    </tr>\n",
       "  </tbody>\n",
       "</table>\n",
       "</div>"
      ],
      "text/plain": [
       "     rgs_dt tck_iem_cd                                            til_ifo  \\\n",
       "0  20230801     Latest       Steady Start Seen For Indonesia Stock Market   \n",
       "1  20230801       ARES  Ares Management (ARES) Q2 Earnings: Taking a L...   \n",
       "2  20230801         EW  RBC Capital Reiterates Edwards Lifesciences (E...   \n",
       "3  20230801       LMAT  Noteworthy Tuesday Option Activity: LMAT, MSTR...   \n",
       "4  20230801         EW  Notable Two Hundred Day Moving Average Cross - EW   \n",
       "\n",
       "             ctgy_cfc_ifo     mdi_ifo  \\\n",
       "0                 Markets     RTTNews   \n",
       "1              Technology       Zacks   \n",
       "2                  Stocks      Fintel   \n",
       "3  Markets,Stocks,Options  BNK Invest   \n",
       "4          Markets,Stocks  BNK Invest   \n",
       "\n",
       "                                        news_smy_ifo  rld_ose_iem_tck_cd  \\\n",
       "0  (RTTNews) - The Indonesia stock market has mov...                   _   \n",
       "1  For the quarter ended June 2023, Ares Manageme...                ARES   \n",
       "2  Fintel reports that on August 1, 2023, RBC Cap...                  EW   \n",
       "3  Looking at options trading activity among comp...  LMAT,LMAT,MSTR,TPC   \n",
       "4  In trading on Tuesday, shares of Edwards Lifes...                  EW   \n",
       "\n",
       "                                             url_ifo  \\\n",
       "0  https://www.nasdaq.com/articles/steady-start-s...   \n",
       "1  https://www.nasdaq.com/articles/ares-managemen...   \n",
       "2  https://www.nasdaq.com/articles/rbc-capital-re...   \n",
       "3  https://www.nasdaq.com/articles/noteworthy-tue...   \n",
       "4  https://www.nasdaq.com/articles/notable-two-hu...   \n",
       "\n",
       "                                             article  \\\n",
       "0  July 31, 2023 — 09:34 pm EDT      Written by  ...   \n",
       "1  August 01, 2023 — 09:30 am EDT      Written by...   \n",
       "2  August 01, 2023 — 07:30 pm EDT      Written by...   \n",
       "3  August 01, 2023 — 03:19 pm EDT      Written by...   \n",
       "4  August 01, 2023 — 11:07 am EDT      Written by...   \n",
       "\n",
       "                                             summary  \n",
       "0  The Indonesia stock market has risen by more t...  \n",
       "1  Ares Management reported revenue of $792.1 mil...  \n",
       "2  RBC Capital reiterated its Outperform recommen...  \n",
       "3  BNK Invest analyzed options trading activity a...  \n",
       "4  On August 1, 2023, at 11:07 am EDT, shares of ...  "
      ]
     },
     "execution_count": 2,
     "metadata": {},
     "output_type": "execute_result"
    }
   ],
   "source": [
    "summary = pd.read_csv('./data/news_summary.csv')\n",
    "summary.head()"
   ]
  },
  {
   "cell_type": "code",
   "execution_count": 3,
   "id": "cf751afa",
   "metadata": {},
   "outputs": [],
   "source": [
    "summary.drop_duplicates(subset='url_ifo',inplace=True)\n",
    "summary.reset_index(drop=True,inplace=True)"
   ]
  },
  {
   "cell_type": "code",
   "execution_count": 26,
   "id": "72f361c1",
   "metadata": {},
   "outputs": [],
   "source": [
    "import pathlib\n",
    "import pickle\n",
    "\n",
    "pkls =sorted(list(pathlib.Path('./information').glob('*.pkl')))\n",
    "pkls\n",
    "\n",
    "comp_desc = pickle.load(open(pkls[0],'rb'))\n",
    "comp_industry = pickle.load(open(pkls[1],'rb'))\n",
    "etf_desc = pickle.load(open(pkls[2],'rb'))\n",
    "etf_holdings = pickle.load(open(pkls[3],'rb'))"
   ]
  },
  {
   "cell_type": "markdown",
   "id": "0028483a",
   "metadata": {},
   "source": [
    "## Simmilarity"
   ]
  },
  {
   "cell_type": "code",
   "execution_count": 4,
   "id": "42161a6b",
   "metadata": {},
   "outputs": [],
   "source": [
    "from sklearn.feature_extraction.text import TfidfVectorizer\n",
    "from sklearn.metrics.pairwise import cosine_similarity\n",
    "import nltk\n",
    "from nltk.corpus import stopwords\n",
    "from nltk.tokenize import word_tokenize"
   ]
  },
  {
   "cell_type": "code",
   "execution_count": 5,
   "id": "8e3e2bb0",
   "metadata": {},
   "outputs": [
    {
     "name": "stderr",
     "output_type": "stream",
     "text": [
      "[nltk_data] Downloading package stopwords to\n",
      "[nltk_data]     /Users/sewoong/nltk_data...\n",
      "[nltk_data]   Package stopwords is already up-to-date!\n",
      "[nltk_data] Downloading package punkt to /Users/sewoong/nltk_data...\n",
      "[nltk_data]   Package punkt is already up-to-date!\n"
     ]
    }
   ],
   "source": [
    "nltk.download('stopwords')\n",
    "nltk.download('punkt')\n",
    "stop_words = set(stopwords.words('english'))"
   ]
  },
  {
   "cell_type": "code",
   "execution_count": 6,
   "id": "5a855e79",
   "metadata": {},
   "outputs": [],
   "source": [
    "# 텍스트를 토큰화하고 불용어(stopwords)를 제거하는 함수\n",
    "def preprocess_text(text):\n",
    "    words = word_tokenize(text.lower())\n",
    "    words = [word for word in words if word.isalpha() and word not in stop_words] #알파벳뺴고 모두 제거?\n",
    "    return ' '.join(words)\n",
    "\n",
    "def get_similiarity(text1,text2):\n",
    "    processed_article_1 = preprocess_text(text1)\n",
    "    processed_article_2 = preprocess_text(text2)\n",
    "    \n",
    "    vectorizer = TfidfVectorizer()\n",
    "    tfidf_matrix = vectorizer.fit_transform([processed_article_1, processed_article_2])\n",
    "\n",
    "    # 코사인 유사도 계산\n",
    "    cosine_similarities = cosine_similarity(tfidf_matrix[0], tfidf_matrix[1])\n",
    "\n",
    "    # 결과 출력\n",
    "    #print(\"Similarity between the two news articles:\", cosine_similarities[0][0])\n",
    "    return cosine_similarities[0][0]"
   ]
  },
  {
   "cell_type": "code",
   "execution_count": 7,
   "id": "bdc515eb",
   "metadata": {},
   "outputs": [],
   "source": [
    "n = summary.shape[0]\n",
    "sim_matrix = np.array([np.NaN]*(n*n)).reshape(n,n)"
   ]
  },
  {
   "cell_type": "code",
   "execution_count": 8,
   "id": "bc118117",
   "metadata": {},
   "outputs": [
    {
     "name": "stderr",
     "output_type": "stream",
     "text": [
      "  0%|          | 0/619 [00:00<?, ?it/s]"
     ]
    },
    {
     "name": "stderr",
     "output_type": "stream",
     "text": [
      "100%|██████████| 619/619 [04:13<00:00,  2.44it/s]"
     ]
    },
    {
     "name": "stdout",
     "output_type": "stream",
     "text": [
      "유사도 계산 소요시간 :4.230026988188426m\n"
     ]
    },
    {
     "name": "stderr",
     "output_type": "stream",
     "text": [
      "\n"
     ]
    }
   ],
   "source": [
    "start = time.time()\n",
    "\n",
    "for i in tqdm(range(n)):\n",
    "    txt1 = summary.loc[i,'news_smy_ifo']\n",
    "    arr = sim_matrix[i]\n",
    "    for j in range(n):\n",
    "        if np.isnan(arr[j]):\n",
    "            txt2 =  summary.loc[j,'news_smy_ifo']      \n",
    "            sim = get_similiarity(txt1,txt2)\n",
    "            arr[j] = sim\n",
    "            sim_matrix[j][i] = sim  \n",
    "    sim_matrix[i] = arr\n",
    "    \n",
    "end = time.time()\n",
    "print('유사도 계산 소요시간 :{}m'.format((end-start)/60))"
   ]
  },
  {
   "cell_type": "markdown",
   "id": "317a19c8",
   "metadata": {},
   "source": [
    "## Grouping"
   ]
  },
  {
   "cell_type": "code",
   "execution_count": 78,
   "id": "1ca305fe",
   "metadata": {},
   "outputs": [],
   "source": [
    "need_columns = ['summary','rld_ose_iem_tck_cd','mdi_ifo','til_ifo','ctgy_cfc_ifo']"
   ]
  },
  {
   "cell_type": "code",
   "execution_count": 79,
   "id": "dd65ea59",
   "metadata": {},
   "outputs": [],
   "source": [
    "def dfs(node,graph,group):\n",
    "\n",
    "    for neighbor in graph[node]:\n",
    "\n",
    "        # 연결된 노드가 속한 그룹이 없다면\n",
    "        if (group[neighbor] == -1):\n",
    "\n",
    "            # node와 연결된 노드들을 모두 같은 그룹으로 처리\n",
    "            group[neighbor] = group[node]\n",
    "\n",
    "            # 연결된 노드들을 기준으로 dfs 반복\n",
    "            dfs(neighbor,graph,group)\n",
    "\n",
    "def make_group(thr):\n",
    "    graph = [[] for _ in range(n)]\n",
    "    group = np.array([-1] * n)\n",
    "\n",
    "    # 그룹 수\n",
    "    count = 1\n",
    "\n",
    "    for i in tqdm(range(n)):\n",
    "        temp_sim = sim_matrix[i]\n",
    "        for j,sim in enumerate(temp_sim):\n",
    "            if i==j:\n",
    "                continue\n",
    "            if sim>thr:\n",
    "                graph[i].append(j)\n",
    "                graph[j].append(i)\n",
    "\n",
    "    # 현재 노드와 연결된 노드들을 모두 같은 그룹으로 처리\n",
    "    for i in tqdm(range(n)):\n",
    "        if (group[i] == -1):\n",
    "            group[i] = count\n",
    "            count += 1\n",
    "            dfs(i,graph,group)\n",
    "            \n",
    "            \n",
    "    uniq,cnts = np.unique(group,return_counts=True)\n",
    "    argsort = cnts.argsort()[::-1]\n",
    "    cnts = cnts[argsort]\n",
    "    uniq = uniq[argsort]\n",
    "    \n",
    "    groupsize_lim = int(n*0.01)\n",
    "    mask = cnts>groupsize_lim\n",
    "    cnts = cnts[mask]\n",
    "    uniq = uniq[mask]\n",
    "    \n",
    "    if len(uniq)==0:\n",
    "        print('cant group news')\n",
    "        return -1\n",
    "    \n",
    "    if len(uniq)>10:\n",
    "        print('too low threshold')\n",
    "        return -1\n",
    "    # elif len(uniq)==0:\n",
    "    #     print('too low threshold')\n",
    "    #     return -1,-1\n",
    "    \n",
    "    represents = pd.DataFrame()\n",
    "    for i,(u,c) in enumerate(zip(uniq,cnts),start=1):\n",
    "        ids = np.where(np.array(group)==u)[0]\n",
    "        rep = ids[np.argmax([len(graph[i]) for i in ids])]\n",
    "        rep_df = pd.DataFrame(summary.loc[rep,need_columns]).T\n",
    "        rep_df['cnts'] = c\n",
    "        represents = pd.concat([represents,rep_df],axis=0)\n",
    "        \n",
    "    return represents       "
   ]
  },
  {
   "cell_type": "code",
   "execution_count": 80,
   "id": "33d526e5",
   "metadata": {},
   "outputs": [
    {
     "name": "stdout",
     "output_type": "stream",
     "text": [
      "testing with threshold 0.8...\n"
     ]
    },
    {
     "name": "stderr",
     "output_type": "stream",
     "text": [
      "100%|██████████| 619/619 [00:00<00:00, 16731.16it/s]\n",
      "100%|██████████| 619/619 [00:00<00:00, 434377.48it/s]"
     ]
    },
    {
     "name": "stdout",
     "output_type": "stream",
     "text": [
      "final threshold : 0.8\n",
      "group 개수 : 5\n"
     ]
    },
    {
     "name": "stderr",
     "output_type": "stream",
     "text": [
      "\n"
     ]
    }
   ],
   "source": [
    "for thr in [0.8,0.7,0.6,0.5,0.4]:\n",
    "    print(f'testing with threshold {thr}...')\n",
    "    rep =  make_group(thr)\n",
    "    if ~isinstance(rep,int):\n",
    "        print('final threshold :',thr)\n",
    "        print(f'group 개수 : {len(rep)}')\n",
    "        break"
   ]
  },
  {
   "cell_type": "code",
   "execution_count": 81,
   "id": "ab00dffe",
   "metadata": {},
   "outputs": [
    {
     "data": {
      "text/html": [
       "<div>\n",
       "<style scoped>\n",
       "    .dataframe tbody tr th:only-of-type {\n",
       "        vertical-align: middle;\n",
       "    }\n",
       "\n",
       "    .dataframe tbody tr th {\n",
       "        vertical-align: top;\n",
       "    }\n",
       "\n",
       "    .dataframe thead th {\n",
       "        text-align: right;\n",
       "    }\n",
       "</style>\n",
       "<table border=\"1\" class=\"dataframe\">\n",
       "  <thead>\n",
       "    <tr style=\"text-align: right;\">\n",
       "      <th></th>\n",
       "      <th>summary</th>\n",
       "      <th>rld_ose_iem_tck_cd</th>\n",
       "      <th>mdi_ifo</th>\n",
       "      <th>til_ifo</th>\n",
       "      <th>ctgy_cfc_ifo</th>\n",
       "      <th>cnts</th>\n",
       "    </tr>\n",
       "  </thead>\n",
       "  <tbody>\n",
       "    <tr>\n",
       "      <th>196</th>\n",
       "      <td>Gartner reported quarterly earnings of $2.85 p...</td>\n",
       "      <td>IT,III</td>\n",
       "      <td>Zacks</td>\n",
       "      <td>Gartner (IT) Q2 Earnings and Revenues Top Esti...</td>\n",
       "      <td>Stocks,Investing</td>\n",
       "      <td>65</td>\n",
       "    </tr>\n",
       "    <tr>\n",
       "      <th>72</th>\n",
       "      <td>Li Auto (NASDAQ:LI) is set to report earnings ...</td>\n",
       "      <td>LI,LI,TSLA,TM,F,BYDDF</td>\n",
       "      <td>InvestorPlace</td>\n",
       "      <td>LI Stock Investors, Take Note: What to Watch f...</td>\n",
       "      <td>Markets</td>\n",
       "      <td>15</td>\n",
       "    </tr>\n",
       "    <tr>\n",
       "      <th>87</th>\n",
       "      <td>TrueCar (TRUE) reported a quarterly loss of $0...</td>\n",
       "      <td>TRUE</td>\n",
       "      <td>Zacks</td>\n",
       "      <td>TrueCar (TRUE) Reports Q2 Loss, Tops Revenue E...</td>\n",
       "      <td>Stocks,Investing</td>\n",
       "      <td>9</td>\n",
       "    </tr>\n",
       "    <tr>\n",
       "      <th>82</th>\n",
       "      <td>On August 1, 2023, Freeport-McMoRan Inc's (FCX...</td>\n",
       "      <td>FCX</td>\n",
       "      <td>BNK Invest</td>\n",
       "      <td>Freeport-McMoRan Reaches Analyst Target Price</td>\n",
       "      <td>Markets,Stocks,ETFs</td>\n",
       "      <td>8</td>\n",
       "    </tr>\n",
       "    <tr>\n",
       "      <th>22</th>\n",
       "      <td>'./df_mistral.csv'</td>\n",
       "      <td>ZI,ZI</td>\n",
       "      <td>The Motley Fool</td>\n",
       "      <td>ZoomInfo Technologies (ZI) Q2 2023 Earnings Ca...</td>\n",
       "      <td>Markets</td>\n",
       "      <td>7</td>\n",
       "    </tr>\n",
       "  </tbody>\n",
       "</table>\n",
       "</div>"
      ],
      "text/plain": [
       "                                               summary     rld_ose_iem_tck_cd  \\\n",
       "196  Gartner reported quarterly earnings of $2.85 p...                 IT,III   \n",
       "72   Li Auto (NASDAQ:LI) is set to report earnings ...  LI,LI,TSLA,TM,F,BYDDF   \n",
       "87   TrueCar (TRUE) reported a quarterly loss of $0...                   TRUE   \n",
       "82   On August 1, 2023, Freeport-McMoRan Inc's (FCX...                    FCX   \n",
       "22                                  './df_mistral.csv'                  ZI,ZI   \n",
       "\n",
       "             mdi_ifo                                            til_ifo  \\\n",
       "196            Zacks  Gartner (IT) Q2 Earnings and Revenues Top Esti...   \n",
       "72     InvestorPlace  LI Stock Investors, Take Note: What to Watch f...   \n",
       "87             Zacks  TrueCar (TRUE) Reports Q2 Loss, Tops Revenue E...   \n",
       "82        BNK Invest      Freeport-McMoRan Reaches Analyst Target Price   \n",
       "22   The Motley Fool  ZoomInfo Technologies (ZI) Q2 2023 Earnings Ca...   \n",
       "\n",
       "            ctgy_cfc_ifo  cnts  \n",
       "196     Stocks,Investing    65  \n",
       "72               Markets    15  \n",
       "87      Stocks,Investing     9  \n",
       "82   Markets,Stocks,ETFs     8  \n",
       "22               Markets     7  "
      ]
     },
     "execution_count": 81,
     "metadata": {},
     "output_type": "execute_result"
    }
   ],
   "source": [
    "rep"
   ]
  }
 ],
 "metadata": {
  "kernelspec": {
   "display_name": "pytorch",
   "language": "python",
   "name": "python3"
  },
  "language_info": {
   "codemirror_mode": {
    "name": "ipython",
    "version": 3
   },
   "file_extension": ".py",
   "mimetype": "text/x-python",
   "name": "python",
   "nbconvert_exporter": "python",
   "pygments_lexer": "ipython3",
   "version": "3.8.15"
  }
 },
 "nbformat": 4,
 "nbformat_minor": 5
}
